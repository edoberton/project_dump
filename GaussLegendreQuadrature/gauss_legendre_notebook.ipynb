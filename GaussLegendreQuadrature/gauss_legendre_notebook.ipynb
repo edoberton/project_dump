{
 "cells": [
  {
   "cell_type": "markdown",
   "metadata": {
    "collapsed": true,
    "pycharm": {
     "name": "#%% md\n"
    }
   },
   "source": [
    "# Gauss Legendre Quadrature"
   ]
  },
  {
   "cell_type": "markdown",
   "source": [
    "This notebook is intended to provide an application of the tools developed in `gauss_legendre_quadrature.py`. It should also provide the theoretical foundation the script is based on."
   ],
   "metadata": {
    "collapsed": false,
    "pycharm": {
     "name": "#%% md\n"
    }
   }
  },
  {
   "cell_type": "markdown",
   "source": [
    "The Gauss-Legendre Quadrature is a form of gaussian quadrature to approximate the definite integral of a function. The formula provides an approximation of the following function:\n",
    "\\begin{equation*}\n",
    "\\int_a^b f(x) dx = \\sum_i^\\infty w_i f(x_i)\n",
    "\\end{equation*}\n",
    "Although it is formally defined over the integral support $[-1, 1]$, the formula can be extended to any finite interval $[a, b]$. The formula is called the Legendre-Gauss quadrature rule because the abscissae $x_i$ in the Gauss quadrature function for $[-1,1]$ are defined as the roots of the Legendre polynomial.\n",
    "The code relies on the routine by G.B. Rybicki to compute abscissae ($x_i$) and weights ($w_i$).\n",
    "\n",
    "The interested reader can find more information on this procedure and few others in the book \"_Numerical Recipes_\" by _Press et al._."
   ],
   "metadata": {
    "collapsed": false
   }
  },
  {
   "cell_type": "code",
   "execution_count": 4,
   "outputs": [
    {
     "name": "stdout",
     "output_type": "stream",
     "text": [
      "0.9973001825438585\n"
     ]
    }
   ],
   "source": [
    "import numpy as np\n",
    "import gauss_legendre_quadrature as glq\n",
    "\n",
    "# standard normal probability density function\n",
    "def stdnorm_density(x):\n",
    "    return (1/np.sqrt(2*np.pi))* np.exp(-0.5* x**2)\n",
    "\n",
    "up_bound = 3 # upper bound\n",
    "low_bound = -3 # lower bound\n",
    "int_sum = glq.gl_quadrature(stdnorm_density, low_bound, up_bound)\n",
    "print(int_sum)"
   ],
   "metadata": {
    "collapsed": false,
    "pycharm": {
     "name": "#%%\n"
    }
   }
  },
  {
   "cell_type": "markdown",
   "source": [
    "The previous integrand function in the previous code block is the standard normal probability density function:\n",
    "\\begin{equation*}\n",
    "\\frac{1}{\\sqrt{2\\pi}} e^{\\left(-\\frac{x^2}{2}\\right)}\n",
    "\\end{equation*}\n",
    "The integral\n",
    "\\begin{equation*}\n",
    "\\int_{-3}^3 \\frac{1}{\\sqrt{2\\pi}} e^{\\left(-\\frac{x^2}{2}\\right)} dx\n",
    "\\end{equation*}\n",
    "yields the probability of an observation occurring within $\\pm 3\\sigma$ from the expected value (0 in this case). Theoretically, this probability is 99.7%, which matches exactly the numerical integration result."
   ],
   "metadata": {
    "collapsed": false,
    "pycharm": {
     "name": "#%% md\n"
    }
   }
  },
  {
   "cell_type": "code",
   "execution_count": null,
   "outputs": [],
   "source": [],
   "metadata": {
    "collapsed": false,
    "pycharm": {
     "name": "#%%\n"
    }
   }
  }
 ],
 "metadata": {
  "kernelspec": {
   "display_name": "Python 3",
   "language": "python",
   "name": "python3"
  },
  "language_info": {
   "codemirror_mode": {
    "name": "ipython",
    "version": 2
   },
   "file_extension": ".py",
   "mimetype": "text/x-python",
   "name": "python",
   "nbconvert_exporter": "python",
   "pygments_lexer": "ipython2",
   "version": "2.7.6"
  }
 },
 "nbformat": 4,
 "nbformat_minor": 0
}