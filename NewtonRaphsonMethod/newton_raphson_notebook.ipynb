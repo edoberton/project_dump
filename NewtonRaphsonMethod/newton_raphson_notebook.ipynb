{
 "cells": [
  {
   "cell_type": "markdown",
   "metadata": {
    "collapsed": true,
    "pycharm": {
     "name": "#%% md\n"
    }
   },
   "source": [
    "# Newton-Raphson Method"
   ]
  },
  {
   "cell_type": "markdown",
   "source": [
    "This notebook is intended to provide an application of the tools developed in `newton_raphson_solver.py` and `newton_raphson_minimizer.py`. It should also provide the theoretical foundation the script is based on."
   ],
   "metadata": {
    "collapsed": false,
    "pycharm": {
     "name": "#%% md\n"
    }
   }
  },
  {
   "cell_type": "markdown",
   "source": [
    "### Newton-Raphson solver"
   ],
   "metadata": {
    "collapsed": false,
    "pycharm": {
     "name": "#%% md\n"
    }
   }
  },
  {
   "cell_type": "markdown",
   "source": [
    "Newton-Raphson method is a numerical root-finding routine. It operates in a recursive fashion, every iteration the solution is approximated better and better.\n",
    "The Newton-Raphson formula geometrically consists in extending the tangent line at the current point $x_i$ until it crosses the x-axis and then setting the following guess $x_{i+1}$ equals to the crossing point.\\\\\n",
    "\n",
    "The method can be derived from first order Taylor's expansion:\n",
    "\\begin{equation*}\n",
    "    f(x+\\varepsilon) \\approx f(x) + f'(x)\\varepsilon\n",
    "\\end{equation*}\n",
    "Provided that the function is well-behaved and that $\\varepsilon$ is small enough, the terms beyond linear do not contribute significantly to the approximation.\n",
    "Setting $f(x+\\varepsilon) = 0$ we have that\n",
    "\\begin{equation*}\n",
    "    \\varepsilon \\approx -\\frac{f(x)}{f'(x)}\n",
    "\\end{equation*}\n",
    "Considering that $x+\\varepsilon$ should return a function value of approximately 0, substituting $\\varepsilon$ with $-\\frac{f(x)}{f'(x)}$ yields a first approximation of the root of the function. By iteratively applying the formula one can further refine the result.\n",
    "\n",
    "Newton-Raphson formula is very powerful in that it converges quickly to a root. However, far from a root, where the higher-order terms in the series are important, the Newton-Raphson formula can give grossly inaccurate, meaningless corrections. Moreover, if the function does not behave well, one could end up in a loop or encounter a local extremum and diverge."
   ],
   "metadata": {
    "collapsed": false,
    "pycharm": {
     "name": "#%% md\n"
    }
   }
  },
  {
   "cell_type": "code",
   "execution_count": 7,
   "outputs": [
    {
     "name": "stdout",
     "output_type": "stream",
     "text": [
      "0.5372744491738567\n"
     ]
    }
   ],
   "source": [
    "import numpy as np\n",
    "import newthon_raphson_solver as nrs\n",
    "\n",
    "# function to be solved\n",
    "def f(x):\n",
    "    return x**2 + np.exp(x) -2\n",
    "\n",
    "# roots of this function:\n",
    "# x1 = -1.31597\n",
    "# x2 = 0.537274\n",
    "\n",
    "guess = 1 # initial guess\n",
    "sol = nrs.nr_solver(f, guess)\n",
    "print(sol)"
   ],
   "metadata": {
    "collapsed": false,
    "pycharm": {
     "name": "#%%\n"
    }
   }
  },
  {
   "cell_type": "markdown",
   "source": [
    "### Newton-Raphson Minimizer"
   ],
   "metadata": {
    "collapsed": false
   }
  },
  {
   "cell_type": "markdown",
   "source": [
    "Similarly to the NR Solver, the Newton-Raphson Minimizer is a numerical routine to approximate the minimum of a function. Analogously to the previous case, it can be derived from Taylor expansion. Let us consider a second order expansion:\n",
    "\\begin{equation*}\n",
    "f(x+\\delta) \\approx f(x) + f'(x)\\delta + \\frac{1}{2}f''(x)\\delta^2\n",
    "\\end{equation*}\n",
    "In order to find the maximum, we set the first derivative of the above equation withe respect to $\\delta$ equal to 0. Hence we have\n",
    "\\begin{align*}\n",
    "0 &\\approx \\frac{d}{d\\delta} \\left(f(x) + f'(x)\\delta + \\frac{1}{2}f''(x)\\delta^2 \\right) \\\\\n",
    "&\\approx f'(x) + f''(x)\\delta\n",
    "\\end{align*}\n",
    "Which in turn yields\n",
    "$$\n",
    "\\delta \\approx -\\frac{f'(x)}{f''(x)}\n",
    "$$\n",
    "Provided that $x+\\delta$ is the values that minimizes the function, substituting $\\delta$ with $-\\frac{f'(x)}{f''(x)}$ yields a first approximation of the minimum point of the function. By iteratively applying the formula one can further refine the result.\n",
    "\n",
    "The intuition is the same as for the NR solver. However, in this application, one is looking for the value of $x$ that sets the first derivative equals to 0, that is the root of the first derivative.\n",
    "\n",
    "Naturally, the Newton-Raphson minimizer has some drawbacks. The result will only be as good as the inital guess, the closer the initial guess to the minimum, the faster the convergence. Finally, the routine is able to locate only local minima, therefore the results could be dependent on the guesses for exotic-shaped functions."
   ],
   "metadata": {
    "collapsed": false
   }
  },
  {
   "cell_type": "code",
   "execution_count": 8,
   "outputs": [
    {
     "name": "stdout",
     "output_type": "stream",
     "text": [
      "0.5773502691592489\n"
     ]
    }
   ],
   "source": [
    "import newton_raphson_minimizer as nsm\n",
    "\n",
    "# univariate function to be minimized\n",
    "def f(x):\n",
    "    return x**3 - x - 1\n",
    "\n",
    "# minimum of f(x):\n",
    "# x = 0.5773502691896258\n",
    "\n",
    "guess = 5 # initial guess\n",
    "\n",
    "min = nsm.nr_minimizer(f, guess)\n",
    "print(min)"
   ],
   "metadata": {
    "collapsed": false,
    "pycharm": {
     "name": "#%%\n"
    }
   }
  }
 ],
 "metadata": {
  "kernelspec": {
   "display_name": "Python 3",
   "language": "python",
   "name": "python3"
  },
  "language_info": {
   "codemirror_mode": {
    "name": "ipython",
    "version": 2
   },
   "file_extension": ".py",
   "mimetype": "text/x-python",
   "name": "python",
   "nbconvert_exporter": "python",
   "pygments_lexer": "ipython2",
   "version": "2.7.6"
  }
 },
 "nbformat": 4,
 "nbformat_minor": 0
}